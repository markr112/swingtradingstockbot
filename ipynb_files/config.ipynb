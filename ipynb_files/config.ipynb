{
 "cells": [
  {
   "cell_type": "code",
   "execution_count": null,
   "metadata": {},
   "outputs": [],
   "source": [
    "APCA_API_BASE_URL = 'https://paper-api.alpaca.markets'\n",
    "APCA_API_KEY_ID = ''\n",
    "APCA_API_SECRET_KEY = ''\n",
    "\n",
    "\n",
    "HEADERS = {\n",
    "    'APCA-API-KEY-ID': APCA_API_KEY_ID,\n",
    "    'APCA-API-SECRET-KEY': APCA_API_SECRET_KEY\n",
    "}\n",
    "BARS_URL = 'https://data.alpaca.markets/v1/bars'\n"
   ]
  }
 ],
 "metadata": {
  "kernelspec": {
   "display_name": "Python 3",
   "language": "python",
   "name": "python3"
  },
  "language_info": {
   "codemirror_mode": {
    "name": "ipython",
    "version": 3
   },
   "file_extension": ".py",
   "mimetype": "text/x-python",
   "name": "python",
   "nbconvert_exporter": "python",
   "pygments_lexer": "ipython3",
   "version": "3.7.3"
  }
 },
 "nbformat": 4,
 "nbformat_minor": 4
}
