{
 "cells": [
  {
   "cell_type": "code",
   "execution_count": null,
   "metadata": {},
   "outputs": [],
   "source": [
    "import time, config\n",
    "import datetime, os\n",
    "import alpaca_trade_api as tradeapi\n",
    "\n",
    "# run this file in the command line to have the bot automatically buy and sell stocks\n",
    "api = tradeapi.REST(config.APCA_API_KEY_ID, config.APCA_API_SECRET_KEY, config.APCA_API_BASE_URL) # setup\n",
    "\n",
    "while True: # continually run through buy and sell scripts\n",
    "        os.system('biz_bot_place_orders.py')\n",
    "        os.system('biz_bot_sell.py')\n",
    "        #print('waiting two minutes')\n",
    "        time.sleep(60)\n",
    "        print(\"-\"*50)\n",
    "        continue\n"
   ]
  }
 ],
 "metadata": {
  "kernelspec": {
   "display_name": "Python 3",
   "language": "python",
   "name": "python3"
  },
  "language_info": {
   "codemirror_mode": {
    "name": "ipython",
    "version": 3
   },
   "file_extension": ".py",
   "mimetype": "text/x-python",
   "name": "python",
   "nbconvert_exporter": "python",
   "pygments_lexer": "ipython3",
   "version": "3.7.3"
  }
 },
 "nbformat": 4,
 "nbformat_minor": 4
}
